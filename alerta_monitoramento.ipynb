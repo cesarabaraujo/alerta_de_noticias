{
 "cells": [
  {
   "cell_type": "code",
   "execution_count": 56,
   "metadata": {},
   "outputs": [],
   "source": [
    "#importando bibliotecas\n",
    "\n",
    "import requests \n",
    "from bs4 import BeautifulSoup\n",
    "from urllib.parse import urlparse\n"
   ]
  },
  {
   "cell_type": "code",
   "execution_count": 57,
   "metadata": {},
   "outputs": [],
   "source": [
    "#definir palavra-chave, link da matéria e nome do cliente\n",
    "link_materia = \"https://bpmoney.com.br/economia/surpreendente-mudou-o-cenario-comenta-economista-chefe-do-banco-master-sobre-payroll-dos-eua/\"\n",
    "palavra_chave = \"banco master\"\n",
    "nome_cliente = \"BANCO MASTER\""
   ]
  },
  {
   "cell_type": "code",
   "execution_count": 58,
   "metadata": {},
   "outputs": [],
   "source": [
    "#definindo função para extrair o paragrafo em que a palavra-chave se encontra na matéria\n",
    "\n",
    "def extrair_paragrafo(link_materia, palavra_chave):\n",
    "    #efetuando requisição da API \n",
    "    solicitacao_link = requests.get(link_materia)\n",
    "    if solicitacao_link.status_code == 200:\n",
    "\n",
    "        #criando variavel do HTML estruturado\n",
    "        objeto_html = BeautifulSoup(solicitacao_link.text, 'html.parser')\n",
    "\n",
    "        #definindo o parágrafo com a palavra-chave\n",
    "        paragrafo_chave = None\n",
    "        for paragrafo in objeto_html.find_all('p'):\n",
    "            if palavra_chave.lower() in paragrafo.text.lower():\n",
    "                paragrafo_chave = paragrafo.text.strip()\n",
    "                break\n",
    "\n",
    "        return paragrafo_chave, objeto_html\n",
    "\n",
    "    else:\n",
    "        print(f\"Erro ao acessar o link. erro: {solicitacao_link.status_code}\")\n",
    "        return None, None"
   ]
  },
  {
   "cell_type": "code",
   "execution_count": 59,
   "metadata": {},
   "outputs": [],
   "source": [
    "#definindo função que cria o alerta da matéria que contém a palavra-chave\n",
    "\n",
    "def criar_alerta(link_html, palavra_chave, objeto_html):\n",
    "    \n",
    "    #extraindo o nome do veículo do dominio_html\n",
    "    dominio_html = urlparse(link_html).netloc\n",
    "    nome_veiculo = dominio_html.split('.')[0].upper()\n",
    "\n",
    "    #extraindo o titulo_materia\n",
    "    titulo_materia = objeto_html.title.text.strip()\n",
    "\n",
    "    #extraindo o parágrafo da função extrair_oaragrafo\n",
    "    paragrafo_materia, _ = extrair_paragrafo(link_html, palavra_chave)\n",
    "\n",
    "    #definindo o modelo do alerta\n",
    "    criar_alerta = f\"*ALERTA {nome_cliente} - IMPRENSA*\\n\\n*{titulo_materia}* \\n\\n{paragrafo_materia}\\n\\nLink: {link_html}\"\n",
    "    print(criar_alerta)\n"
   ]
  },
  {
   "cell_type": "code",
   "execution_count": 60,
   "metadata": {},
   "outputs": [
    {
     "name": "stdout",
     "output_type": "stream",
     "text": [
      "*ALERTA BANCO MASTER - IMPRENSA*\n",
      "\n",
      "*“Surpreendente, mudou o cenário”, comenta economista-chefe do Banco Master sobre Payroll dos EUA - BP Money* \n",
      "\n",
      "Home > Economia > “Surpreendente, mudou o cenário”, comenta economista-chefe do Banco Master sobre Payroll dos EUA\n",
      "\n",
      "Link: https://bpmoney.com.br/economia/surpreendente-mudou-o-cenario-comenta-economista-chefe-do-banco-master-sobre-payroll-dos-eua/\n"
     ]
    }
   ],
   "source": [
    "#extraindo o paragrafo_materia e o objeto_html\n",
    "alerta_criado = extrair_paragrafo(link_materia, palavra_chave)\n",
    "\n",
    "#verificando se a palavra_chave existe na matéria\n",
    "if alerta_criado[0]:\n",
    "    paragrafo_materia, objeto_html = alerta_criado\n",
    "\n",
    "    criar_alerta(link_materia, palavra_chave, objeto_html)\n",
    "    \n",
    "else:\n",
    "    print(f\"Palavra-chave '{palavra_chave}' não encontrada na matéria.\")"
   ]
  }
 ],
 "metadata": {
  "kernelspec": {
   "display_name": "Python 3",
   "language": "python",
   "name": "python3"
  },
  "language_info": {
   "codemirror_mode": {
    "name": "ipython",
    "version": 3
   },
   "file_extension": ".py",
   "mimetype": "text/x-python",
   "name": "python",
   "nbconvert_exporter": "python",
   "pygments_lexer": "ipython3",
   "version": "3.11.7"
  }
 },
 "nbformat": 4,
 "nbformat_minor": 2
}
