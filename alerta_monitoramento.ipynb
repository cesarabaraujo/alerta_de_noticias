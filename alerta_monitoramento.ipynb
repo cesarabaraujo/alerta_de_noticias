{
 "cells": [
  {
   "cell_type": "code",
   "execution_count": 5,
   "metadata": {},
   "outputs": [],
   "source": [
    "#definindo as variáveis palavra-chave, link da matéria e nome do cliente (pode virar um input)\n",
    "\n",
    "link_materia = \"https://economia.uol.com.br/noticias/redacao/2024/02/21/ex-presidente-do-banco-central-affonso-celso-pastore-morre-aos-84-anos.htm\"\n",
    "palavra_chave = [\"banco central\"]\n",
    "nome_cliente = \"BANCO CENTRAL\""
   ]
  },
  {
   "cell_type": "code",
   "execution_count": 6,
   "metadata": {},
   "outputs": [],
   "source": [
    "#importando bibliotecas\n",
    "\n",
    "import requests #biblioteca para realizar requisições HTTP\n",
    "from bs4 import BeautifulSoup #biblioteca para web scraping\n",
    "from urllib.parse import urlparse #biblioteca para extrair informações do domínio\n"
   ]
  },
  {
   "cell_type": "code",
   "execution_count": 7,
   "metadata": {},
   "outputs": [],
   "source": [
    "#criando função que extrai o paragrafo com a palavra-chave e cria objeto html \n",
    "\n",
    "def extrair_paragrafo(link_materia, palavras_chave):\n",
    "\n",
    "    #inicia uma exceção para o código\n",
    "    try:\n",
    "        solicitacao_link = requests.get(link_materia)\n",
    "        solicitacao_link.raise_for_status()  \n",
    "        \n",
    "        #cria um objeto BeautifulSoup a partir do conteúdo HTML da resposta da requisição\n",
    "        objeto_html = BeautifulSoup(solicitacao_link.text, 'html.parser')\n",
    "        \n",
    "        #inicializa a variável paragrafo_chave como nula\n",
    "        paragrafo_chave = None\n",
    "\n",
    "        #cria um loop que intera sob os parágrafos do html e verifica se a palavra_chave se encontra\n",
    "        for paravra_chave in palavras_chave:\n",
    "            for paragrafo in objeto_html.find_all('p'):\n",
    "                if paravra_chave.lower() in paragrafo.text.lower():\n",
    "                    paragrafo_chave = paragrafo.text.strip()\n",
    "                    break\n",
    "\n",
    "            if paragrafo_chave:\n",
    "                break\n",
    "\n",
    "        return paragrafo_chave, objeto_html\n",
    "    #fecha a exceção, e se encontrada, imprime a mensagem de erro\n",
    "    except requests.exceptions.RequestException as e:\n",
    "        print(f\"Erro ao acessar o link. Erro: {e}\")\n",
    "        return None, None"
   ]
  },
  {
   "cell_type": "code",
   "execution_count": 8,
   "metadata": {},
   "outputs": [
    {
     "name": "stdout",
     "output_type": "stream",
     "text": [
      "*ALERTA BANCO CENTRAL - IMPRENSA*\n",
      "\n",
      "*UOL*: _Ex-presidente do Banco Central, morre Affonso Celso Pastore_ \n",
      "\n",
      "_Morreu hoje em São Paulo, aos 84 anos, o economista Affonso Celso Pastore. Ele presidiu o Banco Central entre 1983 e 1985, durante o governo do general João Figueiredo, último presidente da ditadura militar._\n",
      "\n",
      "Link: https://economia.uol.com.br/noticias/redacao/2024/02/21/ex-presidente-do-banco-central-affonso-celso-pastore-morre-aos-84-anos.htm\n"
     ]
    }
   ],
   "source": [
    "#função que extrai dominio, nome do veículo e título da matéria, além de gerar o alerta\n",
    "\n",
    "def criar_alerta(link_html, palavra_chave, paragrafo_chave, objeto_html):\n",
    "    \n",
    "    dominio_html = urlparse(link_html).netloc\n",
    "    nome_veiculo = dominio_html.split('.')[1].upper()\n",
    "    titulo_materia = objeto_html.title.text.split('|')[0].strip()\n",
    "     \n",
    "    #define o modelo do alerta\n",
    "    modelo_alerta = f\"*ALERTA {nome_cliente} - IMPRENSA*\\n\\n*{nome_veiculo}*: _{titulo_materia}_ \\n\\n_{paragrafo_chave}_\\n\\nLink: {link_html}\"\n",
    "    return modelo_alerta\n",
    "\n",
    "paragrafo_materia, objeto_html = extrair_paragrafo(link_materia, palavra_chave)\n",
    "\n",
    "#se a palavra chave for encontrada, cria o alerta, se não, imprime uma mensagem de mensagem não encontrada\n",
    "if paragrafo_materia:\n",
    "    alerta_criado = criar_alerta(link_materia, palavra_chave, paragrafo_materia, objeto_html)\n",
    "    print(alerta_criado)\n",
    "else:\n",
    "    print(f\"Palavra-chave '{palavra_chave}' não encontrada na matéria.\")"
   ]
  }
 ],
 "metadata": {
  "kernelspec": {
   "display_name": "Python 3",
   "language": "python",
   "name": "python3"
  },
  "language_info": {
   "codemirror_mode": {
    "name": "ipython",
    "version": 3
   },
   "file_extension": ".py",
   "mimetype": "text/x-python",
   "name": "python",
   "nbconvert_exporter": "python",
   "pygments_lexer": "ipython3",
   "version": "3.11.8"
  }
 },
 "nbformat": 4,
 "nbformat_minor": 2
}
