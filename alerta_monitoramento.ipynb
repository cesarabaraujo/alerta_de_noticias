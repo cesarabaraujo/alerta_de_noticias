{
 "cells": [
  {
   "cell_type": "code",
   "execution_count": 41,
   "metadata": {},
   "outputs": [],
   "source": [
    "#definindo palavra-chave, link da matéria e nome do cliente\n",
    "link_materia = \"https://www.cnnbrasil.com.br/branded-content/nacional/banco-master-oferece-tarifa-zero-para-transferencias-internacionais/\"\n",
    "palavra_chave = \"banco master\"\n",
    "nome_cliente = \"BANCO MASTER\""
   ]
  },
  {
   "cell_type": "code",
   "execution_count": 42,
   "metadata": {},
   "outputs": [],
   "source": [
    "#importando bibliotecas\n",
    "\n",
    "import requests #biblioteca para realizar requisições HTTP\n",
    "from bs4 import BeautifulSoup #biblioteca para web scraping\n",
    "from urllib.parse import urlparse #biblioteca para extrair informações do domínio\n"
   ]
  },
  {
   "cell_type": "code",
   "execution_count": 44,
   "metadata": {},
   "outputs": [],
   "source": [
    "def extrair_paragrafo(link_materia, palavra_chave):\n",
    "    try:\n",
    "        solicitacao_link = requests.get(link_materia)\n",
    "        solicitacao_link.raise_for_status()  # Gera exceção para códigos de status diferentes de 200\n",
    "\n",
    "        objeto_html = BeautifulSoup(solicitacao_link.text, 'html.parser')\n",
    "\n",
    "        paragrafo_chave = None\n",
    "        for paragrafo in objeto_html.find_all('p'):\n",
    "            if palavra_chave.lower() in paragrafo.text.lower():\n",
    "                paragrafo_chave = paragrafo.text.strip()\n",
    "                break\n",
    "\n",
    "        return paragrafo_chave, objeto_html\n",
    "    except requests.exceptions.RequestException as e:\n",
    "        print(f\"Erro ao acessar o link. Erro: {e}\")\n",
    "        return None, None"
   ]
  },
  {
   "cell_type": "code",
   "execution_count": 45,
   "metadata": {},
   "outputs": [
    {
     "name": "stdout",
     "output_type": "stream",
     "text": [
      "*ALERTA BANCO MASTER - IMPRENSA*\n",
      "\n",
      "*Banco Master oferece tarifa zero para transferências internacionais | CNN Brasil* \n",
      "\n",
      "_Durante o mês de janeiro, todos os clientes Banco Master terão tarifa zero para transferências internacionais, além de contar com a agilidade da operação rápida, que pode ser concluída no mesmo dia, e 100% segura._\n",
      "\n",
      "Link: https://www.cnnbrasil.com.br/branded-content/nacional/banco-master-oferece-tarifa-zero-para-transferencias-internacionais/\n"
     ]
    }
   ],
   "source": [
    "def criar_alerta(link_html, palavra_chave, paragrafo_chave, objeto_html):\n",
    "    \n",
    "    dominio_html = urlparse(link_html).netloc\n",
    "    nome_veiculo = dominio_html.split('.')[0].upper()\n",
    "    titulo_materia = objeto_html.title.text.strip()\n",
    "\n",
    "    criar_alerta = f\"*ALERTA {nome_cliente} - IMPRENSA*\\n\\n*{titulo_materia}* \\n\\n_{paragrafo_chave}_\\n\\nLink: {link_html}\"\n",
    "    return criar_alerta\n",
    "\n",
    "# Extraindo o paragrafo_materia e o objeto_html\n",
    "paragrafo_materia, objeto_html = extrair_paragrafo(link_materia, palavra_chave)\n",
    "\n",
    "# Verificando se a palavra_chave existe na matéria\n",
    "if paragrafo_materia:\n",
    "    alerta_criado = criar_alerta(link_materia, palavra_chave, paragrafo_materia, objeto_html)\n",
    "    print(alerta_criado)\n",
    "else:\n",
    "    print(f\"Palavra-chave '{palavra_chave}' não encontrada na matéria.\")"
   ]
  },
  {
   "cell_type": "code",
   "execution_count": null,
   "metadata": {},
   "outputs": [],
   "source": []
  }
 ],
 "metadata": {
  "kernelspec": {
   "display_name": "Python 3",
   "language": "python",
   "name": "python3"
  },
  "language_info": {
   "codemirror_mode": {
    "name": "ipython",
    "version": 3
   },
   "file_extension": ".py",
   "mimetype": "text/x-python",
   "name": "python",
   "nbconvert_exporter": "python",
   "pygments_lexer": "ipython3",
   "version": "3.11.7"
  }
 },
 "nbformat": 4,
 "nbformat_minor": 2
}
